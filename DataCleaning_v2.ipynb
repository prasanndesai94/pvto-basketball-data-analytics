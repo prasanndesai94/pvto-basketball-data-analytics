{
  "nbformat": 4,
  "nbformat_minor": 0,
  "metadata": {
    "colab": {
      "provenance": [],
      "include_colab_link": true
    },
    "kernelspec": {
      "name": "python3",
      "display_name": "Python 3"
    },
    "language_info": {
      "name": "python"
    }
  },
  "cells": [
    {
      "cell_type": "markdown",
      "metadata": {
        "id": "view-in-github",
        "colab_type": "text"
      },
      "source": [
        "<a href=\"https://colab.research.google.com/github/prasanndesai94/pvto-basketball-data-analytics/blob/main/DataCleaning_v2.ipynb\" target=\"_parent\"><img src=\"https://colab.research.google.com/assets/colab-badge.svg\" alt=\"Open In Colab\"/></a>"
      ]
    },
    {
      "cell_type": "code",
      "execution_count": null,
      "metadata": {
        "id": "k-1IKmPWAsu_",
        "colab": {
          "base_uri": "https://localhost:8080/"
        },
        "outputId": "8e0af8ff-e4e2-44fe-8695-91fa03d056c4"
      },
      "outputs": [
        {
          "output_type": "stream",
          "name": "stdout",
          "text": [
            "Looking in indexes: https://pypi.org/simple, https://us-python.pkg.dev/colab-wheels/public/simple/\n",
            "Collecting html-table-parser-python3\n",
            "  Downloading html_table_parser_python3-0.3.1-py3-none-any.whl (15 kB)\n",
            "Installing collected packages: html-table-parser-python3\n",
            "Successfully installed html-table-parser-python3-0.3.1\n"
          ]
        }
      ],
      "source": [
        "!pip install html-table-parser-python3"
      ]
    },
    {
      "cell_type": "code",
      "source": [
        "from html_table_parser.parser import HTMLTableParser\n",
        "import pandas as pd\n",
        "import urllib.request\n",
        "import numpy as np\n",
        "\n",
        "def url_get_contents(link):\n",
        "\n",
        "    # Opens a website and read its\n",
        "    # binary contents (HTTP Response Body)\n",
        "\n",
        "    #making request to the website\n",
        "    req = urllib.request.Request(url=link)\n",
        "    f = urllib.request.urlopen(req)\n",
        "\n",
        "    #reading contents of the website\n",
        "    return f.read()\n",
        "  \n",
        "def dataset():\n",
        "  url = 'https://www.turbostatsevents.com/site/2/boxscore/basketball/pioneervalleytipoff/2022/3'\n",
        "  xhtml = url_get_contents(url).decode('utf-8')\n",
        "\n",
        "  # Defining the HTMLTableParser object and feed html parser\n",
        "  p = HTMLTableParser()\n",
        "\n",
        "  p.feed(xhtml)\n",
        "\n",
        "  # Now finally obtaining the data of\n",
        "  # the table required\n",
        "  players_team1_df = pd.DataFrame(p.tables[1])\n",
        "  players_team1_df.rename(columns=players_team1_df.iloc[0], inplace = True)\n",
        "  players_team1_df.drop(0,inplace = True)\n",
        "  players_team1_df['TeamName'] = p.tables[0][1][0]\n",
        "\n",
        "  players_team2_df = pd.DataFrame(p.tables[2])\n",
        "  players_team2_df.rename(columns=players_team2_df.iloc[0], inplace = True)\n",
        "  players_team2_df.drop(0,inplace = True)\n",
        "  players_team2_df['TeamName'] = p.tables[0][2][0]\n",
        "\n",
        "\n",
        "  # player_data = pd.concat([pd.DataFrame(p.tables[1]), pd.DataFrame(p.tables[2])], axis=0)\n",
        "  player_data = pd.concat([players_team1_df, players_team2_df], axis=0)\n",
        "\n",
        "  # player_data.drop_duplicates()\n",
        "  # player_data.rename(columns=player_data.iloc[0], inplace = True)\n",
        "  # player_data.drop(player_data.index[0], inplace = True)\n",
        "\n",
        "  team_data = player_data[player_data[\"Name\"] == \"Totals\"]\n",
        "  team_data = team_data.reset_index(drop=True)\n",
        "  team_data.loc[0,'Name'] = p.tables[0][1][0]\n",
        "  team_data.loc[1,'Name'] = p.tables[0][2][0]\n",
        "  team_data.drop('Number', axis=1, inplace=True)\n",
        "  team_data.drop('TeamName', axis=1, inplace=True)\n",
        "  \n",
        "  player_data = player_data[player_data[\"Name\"] != \"Totals\"]\n",
        "  player_data = player_data[player_data[\"Name\"] != \"TEAM\"]\n",
        "  player_data = player_data.reset_index(drop=True)\n",
        "\n",
        "  return [player_data, team_data]\n",
        "\n",
        "a = dataset()[1]\n",
        "\n",
        "np.flip(a['Reb']).tolist() / np.flip(a['RebO']).tolist()"
      ],
      "metadata": {
        "id": "OpmTvbePAzTc",
        "colab": {
          "base_uri": "https://localhost:8080/",
          "height": 198
        },
        "outputId": "778f1bf7-c027-426f-8a81-6100bd07625e"
      },
      "execution_count": null,
      "outputs": [
        {
          "output_type": "error",
          "ename": "TypeError",
          "evalue": "ignored",
          "traceback": [
            "\u001b[0;31m---------------------------------------------------------------------------\u001b[0m",
            "\u001b[0;31mTypeError\u001b[0m                                 Traceback (most recent call last)",
            "\u001b[0;32m<ipython-input-22-7360f7a41c73>\u001b[0m in \u001b[0;36m<module>\u001b[0;34m\u001b[0m\n\u001b[1;32m     60\u001b[0m \u001b[0ma\u001b[0m \u001b[0;34m=\u001b[0m \u001b[0mdataset\u001b[0m\u001b[0;34m(\u001b[0m\u001b[0;34m)\u001b[0m\u001b[0;34m[\u001b[0m\u001b[0;36m1\u001b[0m\u001b[0;34m]\u001b[0m\u001b[0;34m\u001b[0m\u001b[0;34m\u001b[0m\u001b[0m\n\u001b[1;32m     61\u001b[0m \u001b[0;34m\u001b[0m\u001b[0m\n\u001b[0;32m---> 62\u001b[0;31m \u001b[0mnp\u001b[0m\u001b[0;34m.\u001b[0m\u001b[0mflip\u001b[0m\u001b[0;34m(\u001b[0m\u001b[0ma\u001b[0m\u001b[0;34m[\u001b[0m\u001b[0;34m'Reb'\u001b[0m\u001b[0;34m]\u001b[0m\u001b[0;34m)\u001b[0m\u001b[0;34m.\u001b[0m\u001b[0mtolist\u001b[0m\u001b[0;34m(\u001b[0m\u001b[0;34m)\u001b[0m \u001b[0;34m/\u001b[0m \u001b[0mnp\u001b[0m\u001b[0;34m.\u001b[0m\u001b[0mflip\u001b[0m\u001b[0;34m(\u001b[0m\u001b[0ma\u001b[0m\u001b[0;34m[\u001b[0m\u001b[0;34m'RebO'\u001b[0m\u001b[0;34m]\u001b[0m\u001b[0;34m)\u001b[0m\u001b[0;34m.\u001b[0m\u001b[0mtolist\u001b[0m\u001b[0;34m(\u001b[0m\u001b[0;34m)\u001b[0m\u001b[0;34m\u001b[0m\u001b[0;34m\u001b[0m\u001b[0m\n\u001b[0m",
            "\u001b[0;31mTypeError\u001b[0m: unsupported operand type(s) for /: 'list' and 'list'"
          ]
        }
      ]
    },
    {
      "cell_type": "code",
      "source": [],
      "metadata": {
        "id": "uQO3HzWiKfrN"
      },
      "execution_count": null,
      "outputs": []
    }
  ]
}